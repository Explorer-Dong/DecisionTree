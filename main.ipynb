{
 "cells": [
  {
   "cell_type": "code",
   "execution_count": 3,
   "metadata": {},
   "outputs": [],
   "source": [
    "import numpy as np\n",
    "import pandas as pd"
   ]
  },
  {
   "cell_type": "markdown",
   "metadata": {},
   "source": [
    "## 一、数据预处理"
   ]
  },
  {
   "cell_type": "code",
   "execution_count": 19,
   "metadata": {},
   "outputs": [
    {
     "name": "stdout",
     "output_type": "stream",
     "text": [
      "   age          workclass  fnlwgt   education  educationNum  \\\n",
      "0   39          State-gov   77516   Bachelors            13   \n",
      "1   50   Self-emp-not-inc   83311   Bachelors            13   \n",
      "2   38            Private  215646     HS-grad             9   \n",
      "3   53            Private  234721        11th             7   \n",
      "4   28            Private  338409   Bachelors            13   \n",
      "\n",
      "         maritalStatus          occupation    relationship    race      sex  \\\n",
      "0        Never-married        Adm-clerical   Not-in-family   White     Male   \n",
      "1   Married-civ-spouse     Exec-managerial         Husband   White     Male   \n",
      "2             Divorced   Handlers-cleaners   Not-in-family   White     Male   \n",
      "3   Married-civ-spouse   Handlers-cleaners         Husband   Black     Male   \n",
      "4   Married-civ-spouse      Prof-specialty            Wife   Black   Female   \n",
      "\n",
      "   capitalGain  capitalLoss  hoursPerWeek   nativeCountry  income  \n",
      "0         2174            0            40   United-States   <=50K  \n",
      "1            0            0            13   United-States   <=50K  \n",
      "2            0            0            40   United-States   <=50K  \n",
      "3            0            0            40   United-States   <=50K  \n",
      "4            0            0            40            Cuba   <=50K  \n",
      "   age   workclass  fnlwgt      education  educationNum        maritalStatus  \\\n",
      "0   25     Private  226802           11th             7        Never-married   \n",
      "1   38     Private   89814        HS-grad             9   Married-civ-spouse   \n",
      "2   28   Local-gov  336951     Assoc-acdm            12   Married-civ-spouse   \n",
      "3   44     Private  160323   Some-college            10   Married-civ-spouse   \n",
      "4   18           ?  103497   Some-college            10        Never-married   \n",
      "\n",
      "           occupation relationship    race      sex  capitalGain  capitalLoss  \\\n",
      "0   Machine-op-inspct    Own-child   Black     Male            0            0   \n",
      "1     Farming-fishing      Husband   White     Male            0            0   \n",
      "2     Protective-serv      Husband   White     Male            0            0   \n",
      "3   Machine-op-inspct      Husband   Black     Male         7688            0   \n",
      "4                   ?    Own-child   White   Female            0            0   \n",
      "\n",
      "   hoursPerWeek   nativeCountry   income  \n",
      "0            40   United-States   <=50K.  \n",
      "1            50   United-States   <=50K.  \n",
      "2            40   United-States    >50K.  \n",
      "3            40   United-States    >50K.  \n",
      "4            30   United-States   <=50K.  \n"
     ]
    }
   ],
   "source": [
    "columns = [\n",
    "    'age', 'workclass', 'fnlwgt', 'education', 'educationNum', \n",
    "    'maritalStatus', 'occupation', 'relationship', 'race', 'sex',\n",
    "    'capitalGain', 'capitalLoss', 'hoursPerWeek', 'nativeCountry', 'income'\n",
    "]\n",
    "train_data = pd.read_csv('data/adult.data', names=columns)\n",
    "test_data = pd.read_csv('data/adult.test', names=columns, skiprows=1)\n",
    "\n",
    "print(train_data.head())\n",
    "print(test_data.head())\n",
    "\n",
    "train_data.to_csv(\"data/train.csv\", index=False)\n",
    "test_data.to_csv(\"data/test.csv\", index=False)\n",
    "\n",
    "train_data = pd.read_csv('data/train.csv')\n",
    "test_data = pd.read_csv('data/test.csv')\n",
    "\n",
    "train_data.drop_duplicates(inplace=False)\n",
    "test_data.drop_duplicates(inplace=False)"
   ]
  },
  {
   "cell_type": "code",
   "execution_count": 29,
   "metadata": {},
   "outputs": [
    {
     "name": "stdout",
     "output_type": "stream",
     "text": [
      "train data shape:  (32561, 15)\n",
      "test data shape:   (16281, 15)\n"
     ]
    }
   ],
   "source": [
    "origin_train_data_shape = train_data.shape\n",
    "origin_test_data_shape = test_data.shape\n",
    "\n",
    "print(\"train data shape: \", origin_train_data_shape)\n",
    "print(\"test data shape:  \", origin_test_data_shape)"
   ]
  },
  {
   "cell_type": "code",
   "execution_count": 31,
   "metadata": {},
   "outputs": [
    {
     "data": {
      "text/plain": [
       "0         <=50K\n",
       "1         <=50K\n",
       "2         <=50K\n",
       "3         <=50K\n",
       "4         <=50K\n",
       "          ...  \n",
       "32556     <=50K\n",
       "32557      >50K\n",
       "32558     <=50K\n",
       "32559     <=50K\n",
       "32560      >50K\n",
       "Name: income, Length: 32561, dtype: object"
      ]
     },
     "execution_count": 31,
     "metadata": {},
     "output_type": "execute_result"
    }
   ],
   "source": []
  },
  {
   "cell_type": "markdown",
   "metadata": {},
   "source": [
    "## 二、模型训练"
   ]
  },
  {
   "cell_type": "code",
   "execution_count": null,
   "metadata": {},
   "outputs": [],
   "source": []
  },
  {
   "cell_type": "markdown",
   "metadata": {},
   "source": [
    "## 三、模型测试"
   ]
  },
  {
   "cell_type": "code",
   "execution_count": null,
   "metadata": {},
   "outputs": [],
   "source": []
  }
 ],
 "metadata": {
  "kernelspec": {
   "display_name": "Python 3",
   "language": "python",
   "name": "python3"
  },
  "language_info": {
   "codemirror_mode": {
    "name": "ipython",
    "version": 3
   },
   "file_extension": ".py",
   "mimetype": "text/x-python",
   "name": "python",
   "nbconvert_exporter": "python",
   "pygments_lexer": "ipython3",
   "version": "3.11.1"
  }
 },
 "nbformat": 4,
 "nbformat_minor": 2
}
